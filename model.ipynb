{
 "cells": [
  {
   "cell_type": "code",
   "execution_count": null,
   "metadata": {},
   "outputs": [
    {
     "name": "stdout",
     "output_type": "stream",
     "text": [
      "Creating new Ultralytics Settings v0.0.6 file  \n",
      "View Ultralytics Settings with 'yolo settings' or at 'C:\\Users\\artwo\\AppData\\Roaming\\Ultralytics\\settings.json'\n",
      "Update Settings with 'yolo settings key=value', i.e. 'yolo settings runs_dir=path/to/dir'. For help see https://docs.ultralytics.com/quickstart/#ultralytics-settings.\n"
     ]
    },
    {
     "ename": "SyntaxError",
     "evalue": "'\u001b[31m\u001b[1mimg_size\u001b[0m' is not a valid YOLO argument. Similar arguments are i.e. ['imgsz=640', 'optimize=False'].\n\n    Arguments received: ['yolo', '--f=c:\\\\Users\\\\artwo\\\\AppData\\\\Roaming\\\\jupyter\\\\runtime\\\\kernel-v32e07a921401ad7a0d2b9b3315cd106d42067dc72.json']. Ultralytics 'yolo' commands use the following syntax:\n\n        yolo TASK MODE ARGS\n\n        Where   TASK (optional) is one of {'detect', 'obb', 'classify', 'segment', 'pose'}\n                MODE (required) is one of {'train', 'val', 'predict', 'benchmark', 'export', 'track'}\n                ARGS (optional) are any number of custom 'arg=value' pairs like 'imgsz=320' that override defaults.\n                    See all ARGS at https://docs.ultralytics.com/usage/cfg or with 'yolo cfg'\n\n    1. Train a detection model for 10 epochs with an initial learning_rate of 0.01\n        yolo train data=coco8.yaml model=yolo11n.pt epochs=10 lr0=0.01\n\n    2. Predict a YouTube video using a pretrained segmentation model at image size 320:\n        yolo predict model=yolo11n-seg.pt source='https://youtu.be/LNwODJXcvt4' imgsz=320\n\n    3. Val a pretrained detection model at batch-size 1 and image size 640:\n        yolo val model=yolo11n.pt data=coco8.yaml batch=1 imgsz=640\n\n    4. Export a YOLO11n classification model to ONNX format at image size 224 by 128 (no TASK required)\n        yolo export model=yolo11n-cls.pt format=onnx imgsz=224,128\n\n    5. Streamlit real-time webcam inference GUI\n        yolo streamlit-predict\n\n    6. Ultralytics solutions usage\n        yolo solutions count or in ['count', 'heatmap', 'queue', 'speed', 'workout', 'analytics', 'trackzone', 'help'] source=\"path/to/video/file.mp4\"\n\n    7. Run special commands:\n        yolo help\n        yolo checks\n        yolo version\n        yolo settings\n        yolo copy-cfg\n        yolo cfg\n        yolo solutions help\n\n    Docs: https://docs.ultralytics.com\n    Solutions: https://docs.ultralytics.com/solutions/\n    Community: https://community.ultralytics.com\n    GitHub: https://github.com/ultralytics/ultralytics\n     (<string>)",
     "output_type": "error",
     "traceback": [
      "Traceback \u001b[1;36m(most recent call last)\u001b[0m:\n",
      "\u001b[0m  File \u001b[0;32m~\\AppData\\Roaming\\Python\\Python39\\site-packages\\IPython\\core\\interactiveshell.py:3550\u001b[0m in \u001b[0;35mrun_code\u001b[0m\n    exec(code_obj, self.user_global_ns, self.user_ns)\u001b[0m\n",
      "\u001b[0m  Cell \u001b[0;32mIn[1], line 3\u001b[0m\n    result = model.train(data='data.yaml', epochs=100, batch=0.7, img_size=640, device=0)\u001b[0m\n",
      "\u001b[0m  File \u001b[0;32mc:\\Users\\artwo\\AppData\\Local\\Programs\\Python\\Python39\\lib\\site-packages\\ultralytics\\engine\\model.py:799\u001b[0m in \u001b[0;35mtrain\u001b[0m\n    self.trainer = (trainer or self._smart_load(\"trainer\"))(overrides=args, _callbacks=self.callbacks)\u001b[0m\n",
      "\u001b[0m  File \u001b[0;32mc:\\Users\\artwo\\AppData\\Local\\Programs\\Python\\Python39\\lib\\site-packages\\ultralytics\\models\\yolo\\segment\\train.py:30\u001b[0m in \u001b[0;35m__init__\u001b[0m\n    super().__init__(cfg, overrides, _callbacks)\u001b[0m\n",
      "\u001b[0m  File \u001b[0;32mc:\\Users\\artwo\\AppData\\Local\\Programs\\Python\\Python39\\lib\\site-packages\\ultralytics\\engine\\trainer.py:101\u001b[0m in \u001b[0;35m__init__\u001b[0m\n    self.args = get_cfg(cfg, overrides)\u001b[0m\n",
      "\u001b[0m  File \u001b[0;32mc:\\Users\\artwo\\AppData\\Local\\Programs\\Python\\Python39\\lib\\site-packages\\ultralytics\\cfg\\__init__.py:297\u001b[0m in \u001b[0;35mget_cfg\u001b[0m\n    check_dict_alignment(cfg, overrides)\u001b[0m\n",
      "\u001b[1;36m  File \u001b[1;32mc:\\Users\\artwo\\AppData\\Local\\Programs\\Python\\Python39\\lib\\site-packages\\ultralytics\\cfg\\__init__.py:485\u001b[1;36m in \u001b[1;35mcheck_dict_alignment\u001b[1;36m\n\u001b[1;33m    raise SyntaxError(string + CLI_HELP_MSG) from e\u001b[1;36m\n",
      "\u001b[1;36m  File \u001b[1;32m<string>\u001b[1;36m\u001b[0m\n\u001b[1;31mSyntaxError\u001b[0m\u001b[1;31m:\u001b[0m '\u001b[31m\u001b[1mimg_size\u001b[0m' is not a valid YOLO argument. Similar arguments are i.e. ['imgsz=640', 'optimize=False'].\n\n    Arguments received: ['yolo', '--f=c:\\\\Users\\\\artwo\\\\AppData\\\\Roaming\\\\jupyter\\\\runtime\\\\kernel-v32e07a921401ad7a0d2b9b3315cd106d42067dc72.json']. Ultralytics 'yolo' commands use the following syntax:\n\n        yolo TASK MODE ARGS\n\n        Where   TASK (optional) is one of {'detect', 'obb', 'classify', 'segment', 'pose'}\n                MODE (required) is one of {'train', 'val', 'predict', 'benchmark', 'export', 'track'}\n                ARGS (optional) are any number of custom 'arg=value' pairs like 'imgsz=320' that override defaults.\n                    See all ARGS at https://docs.ultralytics.com/usage/cfg or with 'yolo cfg'\n\n    1. Train a detection model for 10 epochs with an initial learning_rate of 0.01\n        yolo train data=coco8.yaml model=yolo11n.pt epochs=10 lr0=0.01\n\n    2. Predict a YouTube video using a pretrained segmentation model at image size 320:\n        yolo predict model=yolo11n-seg.pt source='https://youtu.be/LNwODJXcvt4' imgsz=320\n\n    3. Val a pretrained detection model at batch-size 1 and image size 640:\n        yolo val model=yolo11n.pt data=coco8.yaml batch=1 imgsz=640\n\n    4. Export a YOLO11n classification model to ONNX format at image size 224 by 128 (no TASK required)\n        yolo export model=yolo11n-cls.pt format=onnx imgsz=224,128\n\n    5. Streamlit real-time webcam inference GUI\n        yolo streamlit-predict\n\n    6. Ultralytics solutions usage\n        yolo solutions count or in ['count', 'heatmap', 'queue', 'speed', 'workout', 'analytics', 'trackzone', 'help'] source=\"path/to/video/file.mp4\"\n\n    7. Run special commands:\n        yolo help\n        yolo checks\n        yolo version\n        yolo settings\n        yolo copy-cfg\n        yolo cfg\n        yolo solutions help\n\n    Docs: https://docs.ultralytics.com\n    Solutions: https://docs.ultralytics.com/solutions/\n    Community: https://community.ultralytics.com\n    GitHub: https://github.com/ultralytics/ultralytics\n    \n"
     ]
    }
   ],
   "source": [
    "from ultralytics import YOLO\n",
    "model = YOLO('yolov8m-seg.pt')\n",
    "result = model.train(data='data.yaml', epochs=100, batch=0.7, imgsz=640, device=0)"
   ]
  }
 ],
 "metadata": {
  "kernelspec": {
   "display_name": "Python 3",
   "language": "python",
   "name": "python3"
  },
  "language_info": {
   "codemirror_mode": {
    "name": "ipython",
    "version": 3
   },
   "file_extension": ".py",
   "mimetype": "text/x-python",
   "name": "python",
   "nbconvert_exporter": "python",
   "pygments_lexer": "ipython3",
   "version": "3.9.13"
  }
 },
 "nbformat": 4,
 "nbformat_minor": 2
}
